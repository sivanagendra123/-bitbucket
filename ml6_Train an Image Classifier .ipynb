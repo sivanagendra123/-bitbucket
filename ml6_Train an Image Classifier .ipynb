{
 "cells": [
  {
   "cell_type": "code",
   "execution_count": 3,
   "metadata": {},
   "outputs": [],
   "source": [
    "#train image classifier with tensor flow code\n",
    "\n",
    "from sklearn import cross_validation,metrics\n",
    "import tensorflow as tf\n",
    "from tensorflow.contrib import learn\n",
    "def main(unused_in):\n",
    "    #load dataset\n",
    "    iris=learn.datasets.load_dataset('iris')\n",
    "    x_train,y_train,x_test,y_test=cross_validation.train_test_split(iris.data,iris.target,test_size=.2,random_state=42)\n",
    "    #build 3 layer DNN with 10,20,10 hidden layers\n",
    "    clasifier=learn.DNNClassifier(hidden_units=[10,20,10],n_classes=3)\n",
    "    #fit and predict\n",
    "    clasifier.fit(x_train,y_train,steps=200)\n",
    "    score=metrics.accuracy_score(y_test,clasifier.predict(x_test))\n",
    "    print(\"accuracy:{0:f}\".format(score))\n",
    "        "
   ]
  },
  {
   "cell_type": "code",
   "execution_count": null,
   "metadata": {
    "collapsed": true
   },
   "outputs": [],
   "source": [
    "#inception one of best google image classifer\n",
    "#retrain or tranfer training"
   ]
  },
  {
   "cell_type": "code",
   "execution_count": null,
   "metadata": {
    "collapsed": true
   },
   "outputs": [],
   "source": []
  }
 ],
 "metadata": {
  "kernelspec": {
   "display_name": "Python 3",
   "language": "python",
   "name": "python3"
  },
  "language_info": {
   "codemirror_mode": {
    "name": "ipython",
    "version": 3
   },
   "file_extension": ".py",
   "mimetype": "text/x-python",
   "name": "python",
   "nbconvert_exporter": "python",
   "pygments_lexer": "ipython3",
   "version": "3.6.3"
  }
 },
 "nbformat": 4,
 "nbformat_minor": 2
}
